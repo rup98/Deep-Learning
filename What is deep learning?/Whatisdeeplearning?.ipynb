{
  "cells": [
    {
      "cell_type": "markdown",
      "metadata": {
        "id": "SQFfTtXmQHLm"
      },
      "source": [
        "# General about ML/DL\n",
        "\n",
        "## Deep Learning\n",
        "\n",
        "- Information sources:\n",
        "    - r/MachineLearning (https://www.reddit.com/r/MachineLearning)\n",
        "    - Yannic Kilcher youtube channel (https://www.youtube.com/channel/UCZHmQk67mSJgfCCTn7xBfew)\n",
        "    - Lil' Log (https://lilianweng.github.io/lil-log)\n",
        "    - fastai (https://www.fast.ai/)\n",
        "    - floydhub (https://blog.floydhub.com/)\n",
        "    - sebastian raschka blog (https://sebastianraschka.com/blog/index.html/)\n",
        "    - research papers - arxiv (https://arxiv.org/)\n",
        "    - Conferences:\n",
        "        - NeurIPS (https://nips.cc/)\n",
        "        - ICML (https://icml.cc/)\n",
        "        - ICLR (https://iclr.cc/)\n",
        "- Tensorflow vs PyTorch vs JAX\n",
        "- Ecosystems:\n",
        "    - Tensorflow Serving vs torchserve\n",
        "    - Supported languages\n",
        "    - Research orientation\n",
        "    - Deployment & production orientation\n",
        "    - tf.data & torchdata (https://github.com/szymonmaszke/torchdata)\n",
        "    - Front ends:\n",
        "        - keras vs pytorch-lightning (shape inference in https://github.com/szymonmaszke/torchlayers)\n",
        "        - fastai\n",
        "    - PyTorch official ecosystem (https://pytorch.org/ecosystem/)\n",
        "- Automated ml/dl (autokeras) \n",
        "- Loggers:\n",
        "    - tensorboard\n",
        "    - wandb\n",
        "    - comet.ml\n",
        "    - neptune\n",
        "- Training & deployment:\n",
        "    - Docker\n",
        "    - Kubernetes (and Nomad as an alternative)\n",
        "    - TFX (https://www.tensorflow.org/tfx)\n",
        "    - Kubeflow (https://www.kubeflow.org/)\n",
        "- Serverless deployment:\n",
        "    - Microsoft Azure Functions\n",
        "    - AWS (https://github.com/szymonmaszke/torchlambda), direct deployment (fastai)\n",
        "    - GCP   \n",
        "- From lesson:\n",
        "    - Tensorflow playground (https://playground.tensorflow.org)\n",
        "    - Model conversion between frameworks: ONNX (https://github.com/onnx/onnx)\n",
        "    - Transformations for neural networks: albumentations (https://github.com/albumentations-team/albumentations)"
      ]
    }
  ],
  "metadata": {
    "accelerator": "GPU",
    "colab": {
      "collapsed_sections": [],
      "name": "2. Lightning.ipynb",
      "provenance": []
    },
    "kernelspec": {
      "display_name": "Python 3",
      "language": "python",
      "name": "python3"
    },
    "language_info": {
      "codemirror_mode": {
        "name": "ipython",
        "version": 3
      },
      "file_extension": ".py",
      "mimetype": "text/x-python",
      "name": "python",
      "nbconvert_exporter": "python",
      "pygments_lexer": "ipython3",
      "version": "3.8.6"
    }
  },
  "nbformat": 4,
  "nbformat_minor": 0
}